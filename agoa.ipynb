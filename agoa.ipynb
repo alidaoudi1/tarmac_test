{
  "metadata": {
    "kernelspec": {
      "name": "SQLite",
      "display_name": "SQLite",
      "language": "sql"
    },
    "language_info": {
      "codemirror_mode": "sql",
      "file_extension": "",
      "mimetype": "",
      "name": "sql",
      "version": "3.32.3"
    }
  },
  "nbformat_minor": 5,
  "nbformat": 4,
  "cells": [
    {
      "id": "55d3d8c2-837d-484e-acf0-4e0f5678922c",
      "cell_type": "markdown",
      "source": "## AGOA : Exercice 1 \n## Create Tables\n\nTables are created using SQL:",
      "metadata": {}
    },
    {
      "id": "1e4b1625-332f-465b-814a-6c842694b1a1",
      "cell_type": "code",
      "source": "%CREATE agoa.db",
      "metadata": {
        "trusted": true
      },
      "outputs": [],
      "execution_count": 1
    },
    {
      "id": "90a3a9c7-fea7-4259-9fcb-a868c919e9d0",
      "cell_type": "code",
      "source": "CREATE TABLE airlines (\n    id VARCHAR(10) PRIMARY KEY,\n    name VARCHAR(100) NOT NULL,\n    iata_code CHAR(2) UNIQUE NOT NULL\n);",
      "metadata": {
        "trusted": true
      },
      "outputs": [],
      "execution_count": 2
    },
    {
      "id": "d0ccf57a-8527-4017-9d99-82e59b86b829",
      "cell_type": "code",
      "source": "CREATE TABLE airports (\n    id VARCHAR(10) PRIMARY KEY,\n    name VARCHAR(100) NOT NULL,\n    iata_code CHAR(3) UNIQUE NOT NULL,\n    city VARCHAR(100) NOT NULL,\n    country VARCHAR(100) NOT NULL\n);",
      "metadata": {
        "trusted": true
      },
      "outputs": [],
      "execution_count": 3
    },
    {
      "id": "bf219d5c-586a-4e21-8dec-3a93666fb55a",
      "cell_type": "code",
      "source": "CREATE TABLE flights (\n    id VARCHAR(10) PRIMARY KEY,\n    flight_number VARCHAR(10) NOT NULL,\n    airline_id INTEGER REFERENCES airlines(id) ,\n    departure_airport_id INTEGER REFERENCES airports(id),\n    arrival_airport_id INTEGER REFERENCES airports(id),\n    scheduled_departure TIMESTAMP WITH TIME ZONE NOT NULL,\n    scheduled_arrival TIMESTAMP WITH TIME ZONE NOT NULL,\n    actual_departure TIMESTAMP WITH TIME ZONE,\n    actual_arrival TIMESTAMP WITH TIME ZONE\n);\n",
      "metadata": {
        "trusted": true
      },
      "outputs": [],
      "execution_count": 4
    },
    {
      "id": "5ce64dce-65b7-4d0a-b8bb-fc9543130373",
      "cell_type": "code",
      "source": "CREATE TABLE turnarounds (\n    id VARCHAR(10) PRIMARY KEY,\n    departure_flight_id VARCHAR(10) ,\n    arrival_flight_id VARCHAR(10)  \n\n);",
      "metadata": {
        "trusted": true,
        "scrolled": true
      },
      "outputs": [],
      "execution_count": 5
    },
    {
      "id": "587b3f70-ea02-4a3e-9e2f-c3e4edce2046",
      "cell_type": "markdown",
      "source": "## Populate Tables",
      "metadata": {}
    },
    {
      "id": "917c5370-9978-4f7e-9f2d-85ece219bf87",
      "cell_type": "code",
      "source": "INSERT INTO airlines (id, name, iata_code) VALUES\n    ('AIRL_1', 'Air France', 'AF'),\n    ('AIRL_2', 'Lufthansa', 'LH'),\n    ('AIRL_3', 'British Airways', 'BA')",
      "metadata": {
        "trusted": true
      },
      "outputs": [],
      "execution_count": 6
    },
    {
      "id": "981b0233-6ca6-4366-918b-1464d0c962cb",
      "cell_type": "code",
      "source": "INSERT INTO airports (id, name, iata_code, city, country) VALUES\n    ('AIRP_1','Paris Charles de Gaulle', 'CDG', 'Paris', 'France'),\n    ('AIRP_2','Nice Côte d''Azur', 'NCE', 'Nice', 'France'),\n    ('AIRP_3','London Heathrow', 'LHR', 'London', 'United Kingdom'),\n    ('AIRP_4','Frankfurt Airport', 'FRA', 'Frankfurt', 'Germany'),\n    ('AIRP_5','New York JFK', 'JFK', 'New York', 'United States'),\n    ('AIRP_6','Dubai International', 'DXB', 'Dubai', 'United Arab Emirates');\n-- Create table Country and City with one id ",
      "metadata": {
        "trusted": true
      },
      "outputs": [],
      "execution_count": 7
    },
    {
      "id": "d32bbb8f-28cd-44e9-9840-3f318b728cd3",
      "cell_type": "code",
      "source": "INSERT INTO flights (\n    id, flight_number, airline_id, departure_airport_id, arrival_airport_id,\n    scheduled_departure, scheduled_arrival,\n    actual_departure, actual_arrival\n) VALUES\n    -- Air France flights (id: 1)\n    ('FLIGHT_1','AF001', 'AIRL_1', 'AIRP_1', 'AIRP_5', '2024-03-20 10:00:00Z', '2024-03-20 18:30:00Z',  -- CDG-JFK ~8.5h\n     '2024-03-20 10:15:00Z', '2024-03-20 18:45:00Z'),\n    ('FLIGHT_2','AF002', 'AIRL_1', 'AIRP_5', 'AIRP_1', '2024-03-20 20:30:00Z', '2024-03-21 05:00:00Z',  -- JFK-CDG ~8.5h\n     '2024-03-20 20:45:00Z', '2024-03-21 05:30:00Z'),\n    \n    -- Lufthansa flights (id: 2)\n    ('FLIGHT_3','LH123', 'AIRL_2', 'AIRP_4', 'AIRP_6', '2024-03-20 09:00:00Z', '2024-03-20 18:00:00Z',  -- FRA-DXB ~9h\n     '2024-03-20 09:15:00Z', '2024-03-20 18:15:00Z'),\n    ('FLIGHT_4','LH124', 'AIRL_2', 'AIRP_6', 'AIRP_4', '2024-03-20 20:00:00Z', '2024-03-21 05:30:00Z',  -- DXB-FRA ~9.5h\n     '2024-03-20 20:15:00Z', '2024-03-21 05:45:00Z'),\n    \n    -- British Airways flights (id: 3)\n    ('FLIGHT_5','BA456', 'AIRL_3', 'AIRP_3', 'AIRP_6', '2024-03-20 08:00:00Z', '2024-03-20 17:30:00Z',  -- LHR-DXB ~9.5h\n     '2024-03-20 08:15:00Z', '2024-03-20 17:45:00Z'),\n    ('FLIGHT_6','BA457', 'AIRL_3', 'AIRP_6', 'AIRP_3', '2024-03-20 19:30:00Z', '2024-03-21 05:00:00Z',  -- DXB-LHR ~9.5h\n     '2024-03-20 19:32:00Z', '2024-03-21 05:35:00Z'),\n    ('FLIGHT_7','BA458', 'AIRL_3', 'AIRP_5', 'AIRP_3', '2024-03-20 19:30:00Z', '2024-03-21 05:00:00Z', \n     '2024-03-20 21:00:00Z', '2024-03-21 05:12:00Z'),\n    ('FLIGHT_8','BA459', 'AIRL_3', 'AIRP_3', 'AIRP_2', '2024-03-20 19:30:00Z', '2024-03-21 05:00:00Z', \n     '2024-03-20 19:30:00Z', '2024-03-21 05:15:00Z');\n\n--    ABS(julianday(dep_f.scheduled_departure)-julianday(arr_f.scheduled_arrival)) AS turnaround_duration_scheduled, 20h30 - 18h30\n--    ABS(julianday(dep_f.actual_departure)-julianday(arr_f.actual_arrival)) AS turnaround_duration_actual\n    \n",
      "metadata": {
        "trusted": true
      },
      "outputs": [],
      "execution_count": 8
    },
    {
      "id": "54c52be3-a067-4472-84e9-a6eba6bf415a",
      "cell_type": "code",
      "source": "INSERT INTO turnarounds (id,\n    departure_flight_id, arrival_flight_id\n) VALUES\n    -- JFK turnaround (Air France)\n    ('TURN_1','FLIGHT_1','FLIGHT_2'),\n    \n    -- Dubai turnaround (Lufthansa)\n    ('TURN_2','FLIGHT_3','FLIGHT_4'),\n    \n    -- Dubai turnaround (British Airways)\n    ('TURN_3','FLIGHT_5','FLIGHT_6'),\n\n    ('TURN_4','FLIGHT_1','FLIGHT_7'),\n    ('TURN_5','FLIGHT_7','FLIGHT_8')\n",
      "metadata": {
        "trusted": true
      },
      "outputs": [],
      "execution_count": 9
    },
    {
      "id": "efaa619a-ccfd-42cc-b5a6-5ee3c8b908b3",
      "cell_type": "markdown",
      "source": "## Exercice 2 - Requests ",
      "metadata": {}
    },
    {
      "id": "33521878-b30c-4061-866b-405cfa04e0fa",
      "cell_type": "markdown",
      "source": "1. Afficher les 5 vols ayant la durée de vol la plus élevée dans l’ordre décroissant ;\n",
      "metadata": {}
    },
    {
      "id": "933a7757-21aa-4dd3-93d7-8584668ce4c1",
      "cell_type": "code",
      "source": "SELECT \n    f.flight_number,\n    ROUND(\n        (julianday(f.scheduled_arrival) - julianday(f.scheduled_departure)) * 24,\n        1\n    ) AS duration_hours\nFROM flights f\nORDER BY duration_hours DESC\nLIMIT 5;",
      "metadata": {
        "trusted": true
      },
      "outputs": [
        {
          "execution_count": 10,
          "output_type": "execute_result",
          "data": {
            "text/html": "<table>\n<tr>\n<th>flight_number</th>\n<th>duration_hours</th>\n</tr>\n<tr>\n<td>LH124</td>\n<td>9.5</td>\n</tr>\n<tr>\n<td>BA456</td>\n<td>9.5</td>\n</tr>\n<tr>\n<td>BA457</td>\n<td>9.5</td>\n</tr>\n<tr>\n<td>BA458</td>\n<td>9.5</td>\n</tr>\n<tr>\n<td>BA459</td>\n<td>9.5</td>\n</tr>\n</table>",
            "text/plain": "+---------------+----------------+\n| flight_number | duration_hours |\n+---------------+----------------+\n| LH124         | 9.5            |\n+---------------+----------------+\n| BA456         | 9.5            |\n+---------------+----------------+\n| BA457         | 9.5            |\n+---------------+----------------+\n| BA458         | 9.5            |\n+---------------+----------------+\n| BA459         | 9.5            |\n+---------------+----------------+"
          },
          "metadata": {}
        }
      ],
      "execution_count": 10
    },
    {
      "id": "e5ff15ee-6a1d-49ab-bf8b-62789c5cf93a",
      "cell_type": "markdown",
      "source": "2. Afficher pour tous les turnarounds, leur aéroport de référence ainsi que les aéroports\nde départ et d’arrivée associés ;\n",
      "metadata": {
        "scrolled": true
      }
    },
    {
      "id": "e514564e-6f39-40c2-9e09-1a375296ab56",
      "cell_type": "code",
      "source": "SELECT \n    t.id as turnaround_id,\n    dep2.name as airport_reference,\n    dep.name as airport_departure,\n    arr.name as airport_arrival\nFROM turnarounds t\nLEFT JOIN flights dep_f ON t.departure_flight_id = dep_f.id\nLEFT JOIN flights arr_f ON t.arrival_flight_id = arr_f.id\nLEFT JOIN airports dep ON dep_f.departure_airport_id = dep.id\nLEFT JOIN airports arr ON arr_f.arrival_airport_id = arr.id\nLEFT JOIN airports dep2 ON dep_f.arrival_airport_id = dep2.id",
      "metadata": {
        "trusted": true
      },
      "outputs": [
        {
          "execution_count": 11,
          "output_type": "execute_result",
          "data": {
            "text/html": "<table>\n<tr>\n<th>turnaround_id</th>\n<th>airport_reference</th>\n<th>airport_departure</th>\n<th>airport_arrival</th>\n</tr>\n<tr>\n<td>TURN_1</td>\n<td>New York JFK</td>\n<td>Paris Charles de Gaulle</td>\n<td>Paris Charles de Gaulle</td>\n</tr>\n<tr>\n<td>TURN_2</td>\n<td>Dubai International</td>\n<td>Frankfurt Airport</td>\n<td>Frankfurt Airport</td>\n</tr>\n<tr>\n<td>TURN_3</td>\n<td>Dubai International</td>\n<td>London Heathrow</td>\n<td>London Heathrow</td>\n</tr>\n<tr>\n<td>TURN_4</td>\n<td>New York JFK</td>\n<td>Paris Charles de Gaulle</td>\n<td>London Heathrow</td>\n</tr>\n<tr>\n<td>TURN_5</td>\n<td>London Heathrow</td>\n<td>New York JFK</td>\n<td>Nice Côte d'Azur</td>\n</tr>\n</table>",
            "text/plain": "+---------------+---------------------+-------------------------+-------------------------+\n| turnaround_id | airport_reference   | airport_departure       | airport_arrival         |\n+---------------+---------------------+-------------------------+-------------------------+\n| TURN_1        | New York JFK        | Paris Charles de Gaulle | Paris Charles de Gaulle |\n+---------------+---------------------+-------------------------+-------------------------+\n| TURN_2        | Dubai International | Frankfurt Airport       | Frankfurt Airport       |\n+---------------+---------------------+-------------------------+-------------------------+\n| TURN_3        | Dubai International | London Heathrow         | London Heathrow         |\n+---------------+---------------------+-------------------------+-------------------------+\n| TURN_4        | New York JFK        | Paris Charles de Gaulle | London Heathrow         |\n+---------------+---------------------+-------------------------+-------------------------+\n| TURN_5        | London Heathrow     | New York JFK            | Nice Côte d'Azur       |\n+---------------+---------------------+-------------------------+-------------------------+"
          },
          "metadata": {}
        }
      ],
      "execution_count": 11
    },
    {
      "id": "029f34b4-149a-4ba5-ade7-de9997f98f9f",
      "cell_type": "markdown",
      "source": "3. Afficher les turnarounds dont la compagnie du vol d’arrivée est différente de celle du\nvol départ ;",
      "metadata": {}
    },
    {
      "id": "47c2164b-f160-4116-83c8-2a0203336d76",
      "cell_type": "code",
      "source": "SELECT \n    t.id as turnaround_id,\n    dep_f.airline_id as airline_dep,\n    arr_f.airline_id as airline_arr\nFROM turnarounds t \nLEFT JOIN flights dep_f ON t.departure_flight_id = dep_f.id\nLEFT JOIN flights arr_f ON t.arrival_flight_id = arr_f.id\nWHERE airline_dep != airline_arr",
      "metadata": {
        "trusted": true
      },
      "outputs": [
        {
          "execution_count": 12,
          "output_type": "execute_result",
          "data": {
            "text/html": "<table>\n<tr>\n<th>turnaround_id</th>\n<th>airline_dep</th>\n<th>airline_arr</th>\n</tr>\n<tr>\n<td>TURN_4</td>\n<td>AIRL_1</td>\n<td>AIRL_3</td>\n</tr>\n</table>",
            "text/plain": "+---------------+-------------+-------------+\n| turnaround_id | airline_dep | airline_arr |\n+---------------+-------------+-------------+\n| TURN_4        | AIRL_1      | AIRL_3      |\n+---------------+-------------+-------------+"
          },
          "metadata": {}
        }
      ],
      "execution_count": 12
    },
    {
      "id": "81de86ca-90e0-4583-8fe4-9d297a8454d1",
      "cell_type": "markdown",
      "source": "4. Afficher la ponctualité de chaque turnaround :\n- la différence entre l’heure d’arrivée prévue et actuelle,\n- la différence entre l’heure de départ prévue et actuelle,\n- La différence entre la durée du turnaround prévue et actuelle ;",
      "metadata": {}
    },
    {
      "id": "f06f4e01-1552-4a6c-8f0a-681a47d58150",
      "cell_type": "code",
      "source": "SELECT \n    t.id as turnaround_id,\n  --  dep_f.scheduled_departure as departure_flight_scheduled_departure,\n   -- dep_f.scheduled_arrival as departure_flight_scheduled_arrival,\n   -- dep_f.actual_arrival as departure_flight_actual,\n   -- arr_f.scheduled_departure as arrival_flight_scheduled_departure,\n   -- arr_f.scheduled_arrival as arrival_flight_scheduled_arrival,\n   -- arr_f.actual_arrival as arrival_flight_actual,\n    ROUND(\n    ABS((julianday(arr_f.scheduled_departure) - julianday(arr_f.actual_departure)) * 24*60),1)\n    AS question1,\n    ROUND(\n    ABS((julianday(dep_f.scheduled_arrival) - julianday(dep_f.actual_arrival)) * 24*60),1)\n    AS question2,\n\n    ABS(\n        ROUND(\n            (julianday(arr_f.scheduled_departure)-julianday(dep_f.scheduled_arrival)) -\n            (julianday(arr_f.actual_departure)-julianday(dep_f.actual_arrival))*24*60,0\n    )\n)\n    AS question3\n    \n    FROM turnarounds t \nLEFT JOIN flights dep_f ON t.departure_flight_id = dep_f.id\nLEFT JOIN flights arr_f ON t.arrival_flight_id = arr_f.id\n",
      "metadata": {
        "trusted": true
      },
      "outputs": [
        {
          "execution_count": 42,
          "output_type": "execute_result",
          "data": {
            "text/html": "<table>\n<tr>\n<th>turnaround_id</th>\n<th>question1</th>\n<th>question2</th>\n<th>question3</th>\n</tr>\n<tr>\n<td>TURN_1</td>\n<td>15.0</td>\n<td>15.0</td>\n<td>120.0</td>\n</tr>\n<tr>\n<td>TURN_2</td>\n<td>15.0</td>\n<td>15.0</td>\n<td>120.0</td>\n</tr>\n<tr>\n<td>TURN_3</td>\n<td>2.0</td>\n<td>15.0</td>\n<td>107.0</td>\n</tr>\n<tr>\n<td>TURN_4</td>\n<td>90.0</td>\n<td>15.0</td>\n<td>135.0</td>\n</tr>\n<tr>\n<td>TURN_5</td>\n<td>0.0</td>\n<td>12.0</td>\n<td>582.0</td>\n</tr>\n</table>",
            "text/plain": "+---------------+-----------+-----------+-----------+\n| turnaround_id | question1 | question2 | question3 |\n+---------------+-----------+-----------+-----------+\n| TURN_1        | 15.0      | 15.0      | 120.0     |\n+---------------+-----------+-----------+-----------+\n| TURN_2        | 15.0      | 15.0      | 120.0     |\n+---------------+-----------+-----------+-----------+\n| TURN_3        | 2.0       | 15.0      | 107.0     |\n+---------------+-----------+-----------+-----------+\n| TURN_4        | 90.0      | 15.0      | 135.0     |\n+---------------+-----------+-----------+-----------+\n| TURN_5        | 0.0       | 12.0      | 582.0     |\n+---------------+-----------+-----------+-----------+"
          },
          "metadata": {}
        }
      ],
      "execution_count": 42
    },
    {
      "id": "0ecb2a3e-fab8-435d-92c8-51d6e454a1a0",
      "cell_type": "markdown",
      "source": "5. Afficher les 2 couples compagnie aérienne et aéroport ayant la meilleur ponctualité\n(la différence la plus faible entre durée prévue et actuelle).",
      "metadata": {}
    },
    {
      "id": "755e076d-0914-46d9-92a9-2ef8007198f9",
      "cell_type": "code",
      "source": "WITH turnaround_delays AS (\n    SELECT \n        a.name as airline,\n        ap.iata_code as airport,\n        ABS(\n            ROUND(\n                (julianday(f2.actual_departure) - julianday(f1.actual_arrival)) -\n                (julianday(f2.scheduled_departure) - julianday(f1.scheduled_arrival)) \n                * 24 * 60,\n                0\n            )\n        ) as delay_minutes\n    FROM turnarounds t\n    JOIN flights f1 ON t.arrival_flight_id = f1.id\n    JOIN flights f2 ON t.departure_flight_id = f2.id\n    JOIN airlines a ON f1.airline_id = a.id\n    JOIN airports ap ON f1.arrival_airport_id = ap.id\n)\nSELECT \n    airline,\n    airport,\n    AVG(delay_minutes) as avg_delay_minutes\nFROM turnaround_delays\nGROUP BY airline, airport\nORDER BY avg_delay_minutes ASC\nLIMIT 2;",
      "metadata": {
        "trusted": true
      },
      "outputs": [
        {
          "execution_count": 39,
          "output_type": "execute_result",
          "data": {
            "text/html": "<table>\n<tr>\n<th>airline</th>\n<th>airport</th>\n<th>avg_delay_minutes</th>\n</tr>\n<tr>\n<td>British Airways</td>\n<td>NCE</td>\n<td>570.0</td>\n</tr>\n<tr>\n<td>Air France</td>\n<td>CDG</td>\n<td>1139.0</td>\n</tr>\n</table>",
            "text/plain": "+-----------------+---------+-------------------+\n| airline         | airport | avg_delay_minutes |\n+-----------------+---------+-------------------+\n| British Airways | NCE     | 570.0             |\n+-----------------+---------+-------------------+\n| Air France      | CDG     | 1139.0            |\n+-----------------+---------+-------------------+"
          },
          "metadata": {}
        }
      ],
      "execution_count": 39
    }
  ]
}